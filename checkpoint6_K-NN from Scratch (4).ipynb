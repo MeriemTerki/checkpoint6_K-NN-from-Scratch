{
 "cells": [
  {
   "cell_type": "markdown",
   "id": "95076e4d",
   "metadata": {},
   "source": [
    "## Importing Modules"
   ]
  },
  {
   "cell_type": "code",
   "execution_count": 1,
   "id": "16240533",
   "metadata": {},
   "outputs": [],
   "source": [
    "import csv\n",
    "import random\n",
    "import math\n",
    "import operator"
   ]
  },
  {
   "cell_type": "markdown",
   "id": "b6dc02ef",
   "metadata": {},
   "source": [
    "## 1. Handle Data"
   ]
  },
  {
   "cell_type": "code",
   "execution_count": 2,
   "id": "8ae3f911",
   "metadata": {},
   "outputs": [],
   "source": [
    "# The first thing we need to do is load our data file. "
   ]
  },
  {
   "cell_type": "code",
   "execution_count": 6,
   "id": "67cfa6e6",
   "metadata": {},
   "outputs": [
    {
     "name": "stdout",
     "output_type": "stream",
     "text": [
      "5.1, 3.5, 1.4, 0.2, Iris-setosa\n",
      "4.9, 3.0, 1.4, 0.2, Iris-setosa\n",
      "4.7, 3.2, 1.3, 0.2, Iris-setosa\n",
      "4.6, 3.1, 1.5, 0.2, Iris-setosa\n",
      "5.0, 3.6, 1.4, 0.2, Iris-setosa\n",
      "5.4, 3.9, 1.7, 0.4, Iris-setosa\n",
      "4.6, 3.4, 1.4, 0.3, Iris-setosa\n",
      "5.0, 3.4, 1.5, 0.2, Iris-setosa\n",
      "4.4, 2.9, 1.4, 0.2, Iris-setosa\n",
      "4.9, 3.1, 1.5, 0.1, Iris-setosa\n",
      "5.4, 3.7, 1.5, 0.2, Iris-setosa\n",
      "4.8, 3.4, 1.6, 0.2, Iris-setosa\n",
      "4.8, 3.0, 1.4, 0.1, Iris-setosa\n",
      "4.3, 3.0, 1.1, 0.1, Iris-setosa\n",
      "5.8, 4.0, 1.2, 0.2, Iris-setosa\n",
      "5.7, 4.4, 1.5, 0.4, Iris-setosa\n",
      "5.4, 3.9, 1.3, 0.4, Iris-setosa\n",
      "5.1, 3.5, 1.4, 0.3, Iris-setosa\n",
      "5.7, 3.8, 1.7, 0.3, Iris-setosa\n",
      "5.1, 3.8, 1.5, 0.3, Iris-setosa\n",
      "5.4, 3.4, 1.7, 0.2, Iris-setosa\n",
      "5.1, 3.7, 1.5, 0.4, Iris-setosa\n",
      "4.6, 3.6, 1.0, 0.2, Iris-setosa\n",
      "5.1, 3.3, 1.7, 0.5, Iris-setosa\n",
      "4.8, 3.4, 1.9, 0.2, Iris-setosa\n",
      "5.0, 3.0, 1.6, 0.2, Iris-setosa\n",
      "5.0, 3.4, 1.6, 0.4, Iris-setosa\n",
      "5.2, 3.5, 1.5, 0.2, Iris-setosa\n",
      "5.2, 3.4, 1.4, 0.2, Iris-setosa\n",
      "4.7, 3.2, 1.6, 0.2, Iris-setosa\n",
      "4.8, 3.1, 1.6, 0.2, Iris-setosa\n",
      "5.4, 3.4, 1.5, 0.4, Iris-setosa\n",
      "5.2, 4.1, 1.5, 0.1, Iris-setosa\n",
      "5.5, 4.2, 1.4, 0.2, Iris-setosa\n",
      "4.9, 3.1, 1.5, 0.1, Iris-setosa\n",
      "5.0, 3.2, 1.2, 0.2, Iris-setosa\n",
      "5.5, 3.5, 1.3, 0.2, Iris-setosa\n",
      "4.9, 3.1, 1.5, 0.1, Iris-setosa\n",
      "4.4, 3.0, 1.3, 0.2, Iris-setosa\n",
      "5.1, 3.4, 1.5, 0.2, Iris-setosa\n",
      "5.0, 3.5, 1.3, 0.3, Iris-setosa\n",
      "4.5, 2.3, 1.3, 0.3, Iris-setosa\n",
      "4.4, 3.2, 1.3, 0.2, Iris-setosa\n",
      "5.0, 3.5, 1.6, 0.6, Iris-setosa\n",
      "5.1, 3.8, 1.9, 0.4, Iris-setosa\n",
      "4.8, 3.0, 1.4, 0.3, Iris-setosa\n",
      "5.1, 3.8, 1.6, 0.2, Iris-setosa\n",
      "4.6, 3.2, 1.4, 0.2, Iris-setosa\n",
      "5.3, 3.7, 1.5, 0.2, Iris-setosa\n",
      "5.0, 3.3, 1.4, 0.2, Iris-setosa\n",
      "7.0, 3.2, 4.7, 1.4, Iris-versicolor\n",
      "6.4, 3.2, 4.5, 1.5, Iris-versicolor\n",
      "6.9, 3.1, 4.9, 1.5, Iris-versicolor\n",
      "5.5, 2.3, 4.0, 1.3, Iris-versicolor\n",
      "6.5, 2.8, 4.6, 1.5, Iris-versicolor\n",
      "5.7, 2.8, 4.5, 1.3, Iris-versicolor\n",
      "6.3, 3.3, 4.7, 1.6, Iris-versicolor\n",
      "4.9, 2.4, 3.3, 1.0, Iris-versicolor\n",
      "6.6, 2.9, 4.6, 1.3, Iris-versicolor\n",
      "5.2, 2.7, 3.9, 1.4, Iris-versicolor\n",
      "5.0, 2.0, 3.5, 1.0, Iris-versicolor\n",
      "5.9, 3.0, 4.2, 1.5, Iris-versicolor\n",
      "6.0, 2.2, 4.0, 1.0, Iris-versicolor\n",
      "6.1, 2.9, 4.7, 1.4, Iris-versicolor\n",
      "5.6, 2.9, 3.6, 1.3, Iris-versicolor\n",
      "6.7, 3.1, 4.4, 1.4, Iris-versicolor\n",
      "5.6, 3.0, 4.5, 1.5, Iris-versicolor\n",
      "5.8, 2.7, 4.1, 1.0, Iris-versicolor\n",
      "6.2, 2.2, 4.5, 1.5, Iris-versicolor\n",
      "5.6, 2.5, 3.9, 1.1, Iris-versicolor\n",
      "5.9, 3.2, 4.8, 1.8, Iris-versicolor\n",
      "6.1, 2.8, 4.0, 1.3, Iris-versicolor\n",
      "6.3, 2.5, 4.9, 1.5, Iris-versicolor\n",
      "6.1, 2.8, 4.7, 1.2, Iris-versicolor\n",
      "6.4, 2.9, 4.3, 1.3, Iris-versicolor\n",
      "6.6, 3.0, 4.4, 1.4, Iris-versicolor\n",
      "6.8, 2.8, 4.8, 1.4, Iris-versicolor\n",
      "6.7, 3.0, 5.0, 1.7, Iris-versicolor\n",
      "6.0, 2.9, 4.5, 1.5, Iris-versicolor\n",
      "5.7, 2.6, 3.5, 1.0, Iris-versicolor\n",
      "5.5, 2.4, 3.8, 1.1, Iris-versicolor\n",
      "5.5, 2.4, 3.7, 1.0, Iris-versicolor\n",
      "5.8, 2.7, 3.9, 1.2, Iris-versicolor\n",
      "6.0, 2.7, 5.1, 1.6, Iris-versicolor\n",
      "5.4, 3.0, 4.5, 1.5, Iris-versicolor\n",
      "6.0, 3.4, 4.5, 1.6, Iris-versicolor\n",
      "6.7, 3.1, 4.7, 1.5, Iris-versicolor\n",
      "6.3, 2.3, 4.4, 1.3, Iris-versicolor\n",
      "5.6, 3.0, 4.1, 1.3, Iris-versicolor\n",
      "5.5, 2.5, 4.0, 1.3, Iris-versicolor\n",
      "5.5, 2.6, 4.4, 1.2, Iris-versicolor\n",
      "6.1, 3.0, 4.6, 1.4, Iris-versicolor\n",
      "5.8, 2.6, 4.0, 1.2, Iris-versicolor\n",
      "5.0, 2.3, 3.3, 1.0, Iris-versicolor\n",
      "5.6, 2.7, 4.2, 1.3, Iris-versicolor\n",
      "5.7, 3.0, 4.2, 1.2, Iris-versicolor\n",
      "5.7, 2.9, 4.2, 1.3, Iris-versicolor\n",
      "6.2, 2.9, 4.3, 1.3, Iris-versicolor\n",
      "5.1, 2.5, 3.0, 1.1, Iris-versicolor\n",
      "5.7, 2.8, 4.1, 1.3, Iris-versicolor\n",
      "6.3, 3.3, 6.0, 2.5, Iris-virginica\n",
      "5.8, 2.7, 5.1, 1.9, Iris-virginica\n",
      "7.1, 3.0, 5.9, 2.1, Iris-virginica\n",
      "6.3, 2.9, 5.6, 1.8, Iris-virginica\n",
      "6.5, 3.0, 5.8, 2.2, Iris-virginica\n",
      "7.6, 3.0, 6.6, 2.1, Iris-virginica\n",
      "4.9, 2.5, 4.5, 1.7, Iris-virginica\n",
      "7.3, 2.9, 6.3, 1.8, Iris-virginica\n",
      "6.7, 2.5, 5.8, 1.8, Iris-virginica\n",
      "7.2, 3.6, 6.1, 2.5, Iris-virginica\n",
      "6.5, 3.2, 5.1, 2.0, Iris-virginica\n",
      "6.4, 2.7, 5.3, 1.9, Iris-virginica\n",
      "6.8, 3.0, 5.5, 2.1, Iris-virginica\n",
      "5.7, 2.5, 5.0, 2.0, Iris-virginica\n",
      "5.8, 2.8, 5.1, 2.4, Iris-virginica\n",
      "6.4, 3.2, 5.3, 2.3, Iris-virginica\n",
      "6.5, 3.0, 5.5, 1.8, Iris-virginica\n",
      "7.7, 3.8, 6.7, 2.2, Iris-virginica\n",
      "7.7, 2.6, 6.9, 2.3, Iris-virginica\n",
      "6.0, 2.2, 5.0, 1.5, Iris-virginica\n",
      "6.9, 3.2, 5.7, 2.3, Iris-virginica\n",
      "5.6, 2.8, 4.9, 2.0, Iris-virginica\n",
      "7.7, 2.8, 6.7, 2.0, Iris-virginica\n",
      "6.3, 2.7, 4.9, 1.8, Iris-virginica\n",
      "6.7, 3.3, 5.7, 2.1, Iris-virginica\n",
      "7.2, 3.2, 6.0, 1.8, Iris-virginica\n",
      "6.2, 2.8, 4.8, 1.8, Iris-virginica\n",
      "6.1, 3.0, 4.9, 1.8, Iris-virginica\n",
      "6.4, 2.8, 5.6, 2.1, Iris-virginica\n",
      "7.2, 3.0, 5.8, 1.6, Iris-virginica\n",
      "7.4, 2.8, 6.1, 1.9, Iris-virginica\n",
      "7.9, 3.8, 6.4, 2.0, Iris-virginica\n",
      "6.4, 2.8, 5.6, 2.2, Iris-virginica\n",
      "6.3, 2.8, 5.1, 1.5, Iris-virginica\n",
      "6.1, 2.6, 5.6, 1.4, Iris-virginica\n",
      "7.7, 3.0, 6.1, 2.3, Iris-virginica\n",
      "6.3, 3.4, 5.6, 2.4, Iris-virginica\n",
      "6.4, 3.1, 5.5, 1.8, Iris-virginica\n",
      "6.0, 3.0, 4.8, 1.8, Iris-virginica\n",
      "6.9, 3.1, 5.4, 2.1, Iris-virginica\n",
      "6.7, 3.1, 5.6, 2.4, Iris-virginica\n",
      "6.9, 3.1, 5.1, 2.3, Iris-virginica\n",
      "5.8, 2.7, 5.1, 1.9, Iris-virginica\n",
      "6.8, 3.2, 5.9, 2.3, Iris-virginica\n",
      "6.7, 3.3, 5.7, 2.5, Iris-virginica\n",
      "6.7, 3.0, 5.2, 2.3, Iris-virginica\n",
      "6.3, 2.5, 5.0, 1.9, Iris-virginica\n",
      "6.5, 3.0, 5.2, 2.0, Iris-virginica\n",
      "6.2, 3.4, 5.4, 2.3, Iris-virginica\n",
      "5.9, 3.0, 5.1, 1.8, Iris-virginica\n"
     ]
    }
   ],
   "source": [
    "with open('iris.data.txt', 'r') as csvfile:\n",
    "\n",
    "    lines = csv.reader(csvfile)\n",
    "\n",
    "    for row in lines :\n",
    "\n",
    "        print (', '.join(row))"
   ]
  },
  {
   "cell_type": "code",
   "execution_count": 7,
   "id": "00740508",
   "metadata": {},
   "outputs": [],
   "source": [
    "# we need to split the data into a training dataset "
   ]
  },
  {
   "cell_type": "code",
   "execution_count": 8,
   "id": "0e92a76d",
   "metadata": {},
   "outputs": [],
   "source": [
    "def loadDataset(filename, split, trainingSet=[] , testSet=[]):\n",
    "    with open(filename, 'r') as csvfile:\n",
    "        lines = csv.reader(csvfile)\n",
    "        dataset = list(lines)\n",
    "        for x in range(len(dataset)-1):\n",
    "            for y in range(4):\n",
    "                dataset[x][y] = float(dataset[x][y])\n",
    "            if random.random() < split:\n",
    "                trainingSet.append(dataset[x]) \n",
    "            else:\n",
    "                testSet.append(dataset[x]) "
   ]
  },
  {
   "cell_type": "code",
   "execution_count": 9,
   "id": "5c7e82f8",
   "metadata": {},
   "outputs": [],
   "source": [
    "# test this function out with our iris dataset"
   ]
  },
  {
   "cell_type": "code",
   "execution_count": 11,
   "id": "be71b182",
   "metadata": {},
   "outputs": [
    {
     "name": "stdout",
     "output_type": "stream",
     "text": [
      "Train: 99\n",
      "Test: 50\n"
     ]
    }
   ],
   "source": [
    "trainingSet=[]\n",
    "\n",
    "testSet=[]\n",
    "\n",
    "loadDataset('iris.data.txt', 0.66, trainingSet, testSet)\n",
    "\n",
    "print ('Train: ' + repr(len(trainingSet)))\n",
    "\n",
    "print ('Test: ' + repr(len(testSet)) )"
   ]
  },
  {
   "cell_type": "markdown",
   "id": "7a23aa3e",
   "metadata": {},
   "source": [
    "## 2. Similarity"
   ]
  },
  {
   "cell_type": "code",
   "execution_count": 12,
   "id": "89356cd0",
   "metadata": {},
   "outputs": [],
   "source": [
    "def euclideanDistance(instance1, instance2, length): \n",
    "    distance = 0 \n",
    "    for x in range(length): \n",
    "        distance += pow((instance1[x] - instance2[x]), 2) \n",
    "    return math.sqrt(distance) \n",
    "                        "
   ]
  },
  {
   "cell_type": "code",
   "execution_count": 13,
   "id": "a5cb5845",
   "metadata": {},
   "outputs": [],
   "source": [
    "# test this function with some sample data"
   ]
  },
  {
   "cell_type": "code",
   "execution_count": 15,
   "id": "92937a35",
   "metadata": {},
   "outputs": [
    {
     "name": "stdout",
     "output_type": "stream",
     "text": [
      "Distance: 3.4641016151377544\n"
     ]
    }
   ],
   "source": [
    "data1 = [2, 2, 2, 'a']\n",
    "\n",
    "data2 = [4, 4, 4, 'b']\n",
    "\n",
    "distance = euclideanDistance(data1, data2, 3)\n",
    "\n",
    "print ('Distance: ' + repr(distance))"
   ]
  },
  {
   "cell_type": "markdown",
   "id": "c8aeafcc",
   "metadata": {},
   "source": [
    "### 3. Neighbors"
   ]
  },
  {
   "cell_type": "code",
   "execution_count": 16,
   "id": "c2b78b7b",
   "metadata": {},
   "outputs": [],
   "source": [
    "# getNeighbors function that returns k most similar neighbors from the training set for a given test instance"
   ]
  },
  {
   "cell_type": "code",
   "execution_count": 17,
   "id": "39ae8153",
   "metadata": {},
   "outputs": [],
   "source": [
    "def getKNeighbors(trainingSet, testInstance, k): \n",
    "    distances = [] \n",
    "    length = len(testInstance)-1 \n",
    "    for x in range(len(trainingSet)): \n",
    "        dist = euclideanDistance(testInstance, trainingSet[x], length) \n",
    "        distances.append((trainingSet[x], dist)) \n",
    "    distances.sort(key=operator.itemgetter(1)) \n",
    "    neighbors = [] \n",
    "    for x in range(k): \n",
    "        neighbors.append(distances[x][0]) \n",
    "    return neighbors "
   ]
  },
  {
   "cell_type": "code",
   "execution_count": 18,
   "id": "28931fca",
   "metadata": {},
   "outputs": [],
   "source": [
    "#  test out this function "
   ]
  },
  {
   "cell_type": "code",
   "execution_count": 20,
   "id": "63bda15b",
   "metadata": {},
   "outputs": [
    {
     "name": "stdout",
     "output_type": "stream",
     "text": [
      "[[4, 4, 4, 'b']]\n"
     ]
    }
   ],
   "source": [
    "trainSet = [[2, 2, 2, 'a'], [4, 4, 4, 'b']]\n",
    "\n",
    "testInstance = [5, 5, 5]\n",
    "\n",
    "k = 1\n",
    "\n",
    "neighbors = getKNeighbors(trainSet, testInstance, 1)\n",
    "\n",
    "print(neighbors)"
   ]
  },
  {
   "cell_type": "markdown",
   "id": "beaf2ed4",
   "metadata": {},
   "source": [
    "## 4. Response"
   ]
  },
  {
   "cell_type": "code",
   "execution_count": 22,
   "id": "c1c90bf2",
   "metadata": {},
   "outputs": [],
   "source": [
    "# function for getting the majority voted response from a number of neighbors. It assumes the class is the last attribute for each neighbor."
   ]
  },
  {
   "cell_type": "code",
   "execution_count": 23,
   "id": "46f47505",
   "metadata": {},
   "outputs": [],
   "source": [
    "def getResponse(neighbors):\n",
    "    classVotes = {}\n",
    "    for x in range(len(neighbors)):\n",
    "        response = neighbors[x][-1]\n",
    "        if response in classVotes:\n",
    "            classVotes[response] += 1\n",
    "        else:\n",
    "            classVotes[response] = 1\n",
    "    sortedVotes = sorted(classVotes.items(), key=operator.itemgetter(1), reverse=True)\n",
    "    return sortedVotes[0][0]    "
   ]
  },
  {
   "cell_type": "code",
   "execution_count": 24,
   "id": "0b3b32b3",
   "metadata": {},
   "outputs": [],
   "source": [
    "# test out this function with some test neighbors"
   ]
  },
  {
   "cell_type": "code",
   "execution_count": 25,
   "id": "c763bb3c",
   "metadata": {},
   "outputs": [
    {
     "name": "stdout",
     "output_type": "stream",
     "text": [
      "a\n"
     ]
    }
   ],
   "source": [
    "neighbors = [[1,1,1,'a'], [2,2,2,'a'], [3,3,3,'b']]\n",
    "\n",
    "response = getResponse(neighbors)\n",
    "\n",
    "print(response)"
   ]
  },
  {
   "cell_type": "markdown",
   "id": "107483b6",
   "metadata": {},
   "source": [
    "## 5. Accuracy"
   ]
  },
  {
   "cell_type": "code",
   "execution_count": 32,
   "id": "f81fff9e",
   "metadata": {},
   "outputs": [],
   "source": [
    "def getAccuracy(testSet, predictions):\n",
    "    correct = 0\n",
    "    for x in range(len(testSet)):\n",
    "        if testSet[x][-1] == predictions[x]:\n",
    "            correct += 1\n",
    "    return (correct/float(len(testSet))) * 100.0  "
   ]
  },
  {
   "cell_type": "code",
   "execution_count": 27,
   "id": "885c2375",
   "metadata": {},
   "outputs": [],
   "source": [
    "# test this function with a test dataset and predictions"
   ]
  },
  {
   "cell_type": "code",
   "execution_count": 33,
   "id": "78c0cae2",
   "metadata": {},
   "outputs": [
    {
     "name": "stdout",
     "output_type": "stream",
     "text": [
      "66.66666666666666\n"
     ]
    }
   ],
   "source": [
    "testSet = [[1,1,1,'a'], [2,2,2,'a'], [3,3,3,'b']]\n",
    "\n",
    "predictions = ['a', 'a', 'a']\n",
    "\n",
    "accuracy = getAccuracy(testSet, predictions)\n",
    "\n",
    "print(accuracy)"
   ]
  },
  {
   "cell_type": "markdown",
   "id": "7992fb69",
   "metadata": {},
   "source": [
    "## 6. Main"
   ]
  },
  {
   "cell_type": "code",
   "execution_count": 29,
   "id": "4a1e7857",
   "metadata": {},
   "outputs": [],
   "source": [
    "# we can put  all the prevoious functions in one main function"
   ]
  },
  {
   "cell_type": "code",
   "execution_count": 34,
   "id": "cf8772b1",
   "metadata": {},
   "outputs": [],
   "source": [
    "def main():\n",
    "    # preparing and handling the data\n",
    "    trainingSet=[]\n",
    "    testSet=[]\n",
    "    split = 0.67\n",
    "    # 1. Handle Data\n",
    "    loadDataset(r'iris.data.txt', split, trainingSet, testSet)\n",
    "    # 2. Similarity\n",
    "    print('Train set: ' + repr(len(trainingSet)))\n",
    "    print('Test set: ' + repr(len(testSet)))\n",
    "    # funding our knn model\n",
    "    # \n",
    "    predictions=[]\n",
    "    k = 3\n",
    "    for x in range(len(testSet)):\n",
    "        # 3. Neighbors\n",
    "        neighbors = getKNeighbors(trainingSet, testSet[x], k)\n",
    "        # 4. Response\n",
    "        resp = getResponse(neighbors)\n",
    "        predictions.append(resp)\n",
    "        print(' predicted result=' + repr(resp) + ', actual result=' + repr(testSet[x][-1]))\n",
    "    # checking the performence of our model \n",
    "    #5. Accuracy\n",
    "    accuracy=getAccuracy(testSet, predictions)\n",
    "    print('Accuracy value : ' + repr(accuracy) + '%')"
   ]
  },
  {
   "cell_type": "code",
   "execution_count": 35,
   "id": "1f5c25e5",
   "metadata": {},
   "outputs": [
    {
     "name": "stdout",
     "output_type": "stream",
     "text": [
      "Train set: 106\n",
      "Test set: 43\n",
      " predicted result='Iris-setosa', actual result='Iris-setosa'\n",
      " predicted result='Iris-setosa', actual result='Iris-setosa'\n",
      " predicted result='Iris-setosa', actual result='Iris-setosa'\n",
      " predicted result='Iris-setosa', actual result='Iris-setosa'\n",
      " predicted result='Iris-setosa', actual result='Iris-setosa'\n",
      " predicted result='Iris-setosa', actual result='Iris-setosa'\n",
      " predicted result='Iris-setosa', actual result='Iris-setosa'\n",
      " predicted result='Iris-setosa', actual result='Iris-setosa'\n",
      " predicted result='Iris-setosa', actual result='Iris-setosa'\n",
      " predicted result='Iris-setosa', actual result='Iris-setosa'\n",
      " predicted result='Iris-setosa', actual result='Iris-setosa'\n",
      " predicted result='Iris-setosa', actual result='Iris-setosa'\n",
      " predicted result='Iris-setosa', actual result='Iris-setosa'\n",
      " predicted result='Iris-setosa', actual result='Iris-setosa'\n",
      " predicted result='Iris-setosa', actual result='Iris-setosa'\n",
      " predicted result='Iris-setosa', actual result='Iris-setosa'\n",
      " predicted result='Iris-setosa', actual result='Iris-setosa'\n",
      " predicted result='Iris-setosa', actual result='Iris-setosa'\n",
      " predicted result='Iris-setosa', actual result='Iris-setosa'\n",
      " predicted result='Iris-versicolor', actual result='Iris-versicolor'\n",
      " predicted result='Iris-versicolor', actual result='Iris-versicolor'\n",
      " predicted result='Iris-versicolor', actual result='Iris-versicolor'\n",
      " predicted result='Iris-versicolor', actual result='Iris-versicolor'\n",
      " predicted result='Iris-versicolor', actual result='Iris-versicolor'\n",
      " predicted result='Iris-versicolor', actual result='Iris-versicolor'\n",
      " predicted result='Iris-versicolor', actual result='Iris-versicolor'\n",
      " predicted result='Iris-versicolor', actual result='Iris-versicolor'\n",
      " predicted result='Iris-versicolor', actual result='Iris-versicolor'\n",
      " predicted result='Iris-versicolor', actual result='Iris-versicolor'\n",
      " predicted result='Iris-virginica', actual result='Iris-versicolor'\n",
      " predicted result='Iris-versicolor', actual result='Iris-versicolor'\n",
      " predicted result='Iris-versicolor', actual result='Iris-versicolor'\n",
      " predicted result='Iris-versicolor', actual result='Iris-versicolor'\n",
      " predicted result='Iris-versicolor', actual result='Iris-versicolor'\n",
      " predicted result='Iris-virginica', actual result='Iris-virginica'\n",
      " predicted result='Iris-virginica', actual result='Iris-virginica'\n",
      " predicted result='Iris-virginica', actual result='Iris-virginica'\n",
      " predicted result='Iris-virginica', actual result='Iris-virginica'\n",
      " predicted result='Iris-virginica', actual result='Iris-virginica'\n",
      " predicted result='Iris-virginica', actual result='Iris-virginica'\n",
      " predicted result='Iris-virginica', actual result='Iris-virginica'\n",
      " predicted result='Iris-virginica', actual result='Iris-virginica'\n",
      " predicted result='Iris-virginica', actual result='Iris-virginica'\n",
      "Accuracy value : 97.67441860465115%\n"
     ]
    }
   ],
   "source": [
    "# calling the main function\n",
    "main()"
   ]
  },
  {
   "cell_type": "markdown",
   "id": "d0a58342",
   "metadata": {},
   "source": [
    "## 7. Another distance metric"
   ]
  },
  {
   "cell_type": "markdown",
   "id": "18005b28",
   "metadata": {},
   "source": [
    "\n",
    "#### Manhattan Distance between two points (x1, y1) and (x2, y2) is: |x1 – x2| + |y1 – y2|\n",
    "\n"
   ]
  },
  {
   "cell_type": "code",
   "execution_count": 36,
   "id": "b073b787",
   "metadata": {},
   "outputs": [
    {
     "name": "stdout",
     "output_type": "stream",
     "text": [
      " the Distance between the 2 points a and b :  4\n"
     ]
    }
   ],
   "source": [
    "import math \n",
    "#create function to calculate Manhattan distance \n",
    "# a and b are 2 vectors of cordinates of the 2 points that we want to calculate the distance between them\n",
    "def manhattan(a, b):\n",
    "    return sum(abs(val1-val2) for val1, val2 in zip(a,b))\n",
    "\n",
    "\n",
    "#define vectors to try the function\n",
    "a = [2, 4] #  2D coordinates\n",
    "b = [5, 5] #  2D coordinates\n",
    "\n",
    "#calculate Manhattan distance between vectors\n",
    "print ( \" the Distance between the 2 points a and b : \" ,manhattan(a, b))\n",
    "\n",
    "\n",
    "\n",
    "    "
   ]
  },
  {
   "cell_type": "code",
   "execution_count": null,
   "id": "ff41d41c",
   "metadata": {},
   "outputs": [],
   "source": []
  },
  {
   "cell_type": "code",
   "execution_count": null,
   "id": "d08e986d",
   "metadata": {},
   "outputs": [],
   "source": []
  },
  {
   "cell_type": "code",
   "execution_count": null,
   "id": "b997b3c4",
   "metadata": {},
   "outputs": [],
   "source": []
  },
  {
   "cell_type": "code",
   "execution_count": null,
   "id": "fc382869",
   "metadata": {},
   "outputs": [],
   "source": []
  },
  {
   "cell_type": "code",
   "execution_count": null,
   "id": "4fa91b66",
   "metadata": {},
   "outputs": [],
   "source": []
  },
  {
   "cell_type": "code",
   "execution_count": null,
   "id": "916a1602",
   "metadata": {},
   "outputs": [],
   "source": []
  },
  {
   "cell_type": "code",
   "execution_count": null,
   "id": "752044fa",
   "metadata": {},
   "outputs": [],
   "source": []
  },
  {
   "cell_type": "code",
   "execution_count": null,
   "id": "32e71a9b",
   "metadata": {},
   "outputs": [],
   "source": []
  },
  {
   "cell_type": "code",
   "execution_count": null,
   "id": "161df957",
   "metadata": {},
   "outputs": [],
   "source": []
  }
 ],
 "metadata": {
  "kernelspec": {
   "display_name": "Python 3",
   "language": "python",
   "name": "python3"
  },
  "language_info": {
   "codemirror_mode": {
    "name": "ipython",
    "version": 3
   },
   "file_extension": ".py",
   "mimetype": "text/x-python",
   "name": "python",
   "nbconvert_exporter": "python",
   "pygments_lexer": "ipython3",
   "version": "3.8.8"
  }
 },
 "nbformat": 4,
 "nbformat_minor": 5
}
